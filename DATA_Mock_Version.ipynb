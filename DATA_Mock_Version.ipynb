{
 "cells": [
  {
   "cell_type": "code",
   "execution_count": 1,
   "id": "62be38ca-01dc-4b0d-88d8-9326d918248d",
   "metadata": {
    "collapsed": true,
    "jupyter": {
     "outputs_hidden": true
    }
   },
   "outputs": [
    {
     "name": "stdout",
     "output_type": "stream",
     "text": [
      "Requirement already satisfied: openai in c:\\users\\danabr\\appdata\\local\\anaconda3\\lib\\site-packages (1.88.0)\n",
      "Requirement already satisfied: anyio<5,>=3.5.0 in c:\\users\\danabr\\appdata\\local\\anaconda3\\lib\\site-packages (from openai) (4.2.0)\n",
      "Requirement already satisfied: distro<2,>=1.7.0 in c:\\users\\danabr\\appdata\\local\\anaconda3\\lib\\site-packages (from openai) (1.9.0)\n",
      "Requirement already satisfied: httpx<1,>=0.23.0 in c:\\users\\danabr\\appdata\\local\\anaconda3\\lib\\site-packages (from openai) (0.27.0)\n",
      "Requirement already satisfied: jiter<1,>=0.4.0 in c:\\users\\danabr\\appdata\\local\\anaconda3\\lib\\site-packages (from openai) (0.10.0)\n",
      "Requirement already satisfied: pydantic<3,>=1.9.0 in c:\\users\\danabr\\appdata\\local\\anaconda3\\lib\\site-packages (from openai) (2.8.2)\n",
      "Requirement already satisfied: sniffio in c:\\users\\danabr\\appdata\\local\\anaconda3\\lib\\site-packages (from openai) (1.3.0)\n",
      "Requirement already satisfied: tqdm>4 in c:\\users\\danabr\\appdata\\local\\anaconda3\\lib\\site-packages (from openai) (4.66.5)\n",
      "Requirement already satisfied: typing-extensions<5,>=4.11 in c:\\users\\danabr\\appdata\\local\\anaconda3\\lib\\site-packages (from openai) (4.11.0)\n",
      "Requirement already satisfied: idna>=2.8 in c:\\users\\danabr\\appdata\\local\\anaconda3\\lib\\site-packages (from anyio<5,>=3.5.0->openai) (3.7)\n",
      "Requirement already satisfied: certifi in c:\\users\\danabr\\appdata\\local\\anaconda3\\lib\\site-packages (from httpx<1,>=0.23.0->openai) (2024.8.30)\n",
      "Requirement already satisfied: httpcore==1.* in c:\\users\\danabr\\appdata\\local\\anaconda3\\lib\\site-packages (from httpx<1,>=0.23.0->openai) (1.0.2)\n",
      "Requirement already satisfied: h11<0.15,>=0.13 in c:\\users\\danabr\\appdata\\local\\anaconda3\\lib\\site-packages (from httpcore==1.*->httpx<1,>=0.23.0->openai) (0.14.0)\n",
      "Requirement already satisfied: annotated-types>=0.4.0 in c:\\users\\danabr\\appdata\\local\\anaconda3\\lib\\site-packages (from pydantic<3,>=1.9.0->openai) (0.6.0)\n",
      "Requirement already satisfied: pydantic-core==2.20.1 in c:\\users\\danabr\\appdata\\local\\anaconda3\\lib\\site-packages (from pydantic<3,>=1.9.0->openai) (2.20.1)\n",
      "Requirement already satisfied: colorama in c:\\users\\danabr\\appdata\\local\\anaconda3\\lib\\site-packages (from tqdm>4->openai) (0.4.6)\n",
      "Note: you may need to restart the kernel to use updated packages.\n"
     ]
    }
   ],
   "source": [
    "pip install openai"
   ]
  },
  {
   "cell_type": "code",
   "execution_count": 2,
   "id": "012e452d-d1a5-4751-afa5-4f0dfbf5e424",
   "metadata": {
    "collapsed": true,
    "jupyter": {
     "outputs_hidden": true
    }
   },
   "outputs": [
    {
     "name": "stdout",
     "output_type": "stream",
     "text": [
      "Requirement already satisfied: pandas in c:\\users\\danabr\\appdata\\local\\anaconda3\\lib\\site-packages (2.2.2)Note: you may need to restart the kernel to use updated packages.\n",
      "\n",
      "Requirement already satisfied: openpyxl in c:\\users\\danabr\\appdata\\local\\anaconda3\\lib\\site-packages (3.1.5)\n",
      "Requirement already satisfied: numpy>=1.26.0 in c:\\users\\danabr\\appdata\\local\\anaconda3\\lib\\site-packages (from pandas) (1.26.4)\n",
      "Requirement already satisfied: python-dateutil>=2.8.2 in c:\\users\\danabr\\appdata\\local\\anaconda3\\lib\\site-packages (from pandas) (2.9.0.post0)\n",
      "Requirement already satisfied: pytz>=2020.1 in c:\\users\\danabr\\appdata\\local\\anaconda3\\lib\\site-packages (from pandas) (2024.1)\n",
      "Requirement already satisfied: tzdata>=2022.7 in c:\\users\\danabr\\appdata\\local\\anaconda3\\lib\\site-packages (from pandas) (2023.3)\n",
      "Requirement already satisfied: et-xmlfile in c:\\users\\danabr\\appdata\\local\\anaconda3\\lib\\site-packages (from openpyxl) (1.1.0)\n",
      "Requirement already satisfied: six>=1.5 in c:\\users\\danabr\\appdata\\local\\anaconda3\\lib\\site-packages (from python-dateutil>=2.8.2->pandas) (1.16.0)\n"
     ]
    }
   ],
   "source": [
    "pip install pandas openpyxl"
   ]
  },
  {
   "cell_type": "code",
   "execution_count": 9,
   "id": "cb79dcd7-fde6-4cb0-87cd-cb2a1a4aacd8",
   "metadata": {
    "collapsed": true,
    "jupyter": {
     "outputs_hidden": true
    }
   },
   "outputs": [
    {
     "name": "stdout",
     "output_type": "stream",
     "text": [
      "                   Name COMLEX  YEAR  Year_CODED  DO100  DO101  DO139A  DO112  \\\n",
      "0             Alex Chen      F  2026         0.0  89.45  88.75   86.71  86.00   \n",
      "1       Alexander Cohen      F  2026         0.0    NaN  91.26   90.83  85.00   \n",
      "2  Alexander Studebaker      P  2026         0.0  94.36  86.73   89.40  86.00   \n",
      "3     Alleluia Nishimwe      P  2026         0.0  71.87  77.26   83.57  81.00   \n",
      "4             Alvin Lee      P  2026         0.0    NaN    NaN   90.48  92.23   \n",
      "\n",
      "   DO13  DO114A  ...  DO226  DO228  DO229  DO239  DO248   DO25  DO259  DO239C  \\\n",
      "0   NaN   80.43  ...  88.96  89.81  87.22  91.77  85.13  88.55  90.38   95.00   \n",
      "1   NaN     NaN  ...  73.91  72.26  76.69  94.23  74.69  78.02  77.14   87.04   \n",
      "2   NaN   84.54  ...  82.93  79.74  82.23  94.32  83.73  80.96  83.55   89.96   \n",
      "3   NaN   61.91  ...  95.95  83.86  92.72  91.35  84.16  84.55  92.54   91.67   \n",
      "4   NaN   82.81  ...  93.06  83.44  88.02  94.03  85.82  83.77  85.93   92.88   \n",
      "\n",
      "   TotalCourse_M2  COMSAE  \n",
      "0           88.78   300.0  \n",
      "1           78.75   262.0  \n",
      "2           83.43   359.0  \n",
      "3           88.92   373.0  \n",
      "4           88.59   368.0  \n",
      "\n",
      "[5 rows x 31 columns]\n"
     ]
    }
   ],
   "source": [
    "import pandas as pd\n",
    "\n",
    "# Load your Excel file\n",
    "df = pd.read_excel(r'C:\\Users\\danabr\\Documents\\R Projects\\FIRE_No Full Name.xlsx')  # Update with your actual file path\n",
    "data_str = df.to_csv(index=False)\n",
    "# Preview\n",
    "print(df.head())"
   ]
  },
  {
   "cell_type": "code",
   "execution_count": null,
   "id": "44fc1cbd-1b48-4d62-b673-aff3d114a0e1",
   "metadata": {},
   "outputs": [],
   "source": [
    "from openai import OpenAI\n",
    "\n",
    "client = OpenAI(api_key=\"secret key\")\n",
    "\n",
    "response = client.chat.completions.create(\n",
    "    model=\"gpt-4-turbo\",\n",
    "    messages=[\n",
    "{\n",
    "  \"role\": \"system\",\n",
    "  \"content\": \"\"\"You are an expert performance analyst working in an osteopathic medical school. \n",
    "You specialize in identifying academic risk factors and patterns using historical and current student data, including grades, board exam results (COMSAE and COMLEX), and demographic variables. \n",
    "\n",
    "Your analysis must include statistical reasoning, trend identification, and risk-based insights. \n",
    "You are expected to:\n",
    "- Correlate academic variables with outcomes such as COMLEX failure\n",
    "- Identify early warning signs based on course or year-level performance\n",
    "- Interpret logistic regression or suggest thresholds for intervention\n",
    "- Recommend targeted academic support strategies for at-risk students\n",
    "\n",
    "Be precise, data-driven, and use structured summaries in bullet points or short paragraphs.\"\"\"\n",
    "\n",
    "},\n",
    "{\n",
    "  \"role\": \"user\",\n",
    "  \"content\": f\"\"\"\n",
    "\n",
    "Please analyze the following student performance data:\n",
    "\n",
    "**Full Name:**  \n",
    "- COMSAE: Practice board exam score (scaled)  \n",
    "- COMLEX: Official board exam result (P = Pass, F = Fail)   \n",
    "- Columns with the following (e.g.,CRXX, CRXX2): Represent individual medical school courses; values are numeric final grades (e.g., 0-100 scale), not letter grades. \n",
    "- Total Year 1 Grades / Y2: Overall average numeric course grade for Y1 or Y2 year (e.g., on a 0-100 scale) \n",
    "- Year: Indicates the class year in which the student is expected to graduate from the Doctor program (e.g., 2025 = Class of 2025)\n",
    "\n",
    "**Important Note Regarding Courses**\n",
    "For the Class of 2025 they have 2 courses CRXX and CRXX2. For the Class of 2026 those classes were combined to CRXX. Only the Class of 2025 have a distinct course for CRXX2\n",
    "The Class of 2025 they will not have CRXX course grades. \n",
    "\n",
    "**Data:** \n",
    "{data_str}\n",
    "\n",
    "**Please focus your analysis on the following:**\n",
    "1.Identify patterns among students who scored low on COMSAE.\n",
    "\n",
    "2.Identify patterns among students who did not pass COMLEX.\n",
    "\n",
    "3.Analyze how overall yearly performance (Total Year 1 Grades and Total Year 2 Grades) relates to COMSAE scores.\n",
    "\n",
    "4.Analyze how overall yearly performance (Total Year 1 Grades and Total Year 2 Grades) relates to COMLEX pass rates.\n",
    "\n",
    "5.Examine individual course performance (e.g., CRXX) to determine if any courses consistently correlate with low COMSAE scores.\n",
    "\n",
    "6.Examine individual course performance (e.g., CRXX) to determine if any courses consistently correlate with COMLEX failure.\n",
    "\n",
    "7.Determine the cutoff score for Total Year 1 Grades below which the risk of COMLEX failure increases significantly.\n",
    "\n",
    "8.Suggest targeted academic interventions or areas where academic support could improve outcomes.\n",
    "\n",
    "9.Using Total Year 1 Grades as a predictor, model the relationship between first-year course performance and COMLEX failure. Please:\n",
    "\n",
    "-Treat COMLEX as a binary outcome (P = pass, F = fail).\n",
    "\n",
    "-Treat Total Year 1 Grades as a continuous predictor (range: 0–100).\n",
    "\n",
    "-Perform a logistic regression to model the likelihood of COMLEX failure.\n",
    "\n",
    "-Identify the cutoff point where the probability of failure increases significantly.\n",
    "\n",
    "-Report an odds ratio, confidence interval, or p-value if available.\n",
    "\n",
    "-Summarize the relationship, highlighting where risk becomes substantially higher.\n",
    "\n",
    "Note: “Course performance” refers specifically to the Total Year 1 Grades column — the numeric average of all first-year course grades.\n",
    "\n",
    "10.Identify any individual courses that are strong predictors of COMLEX failure.\n",
    "\n",
    "Please summarize your findings using clear bullet points or concise analytical paragraphs.\n",
    "\"\"\"\n",
    "}\n",
    "    ]\n",
    ")\n",
    "\n",
    "print(response.choices[0].message.content)"
   ]
  },
  {
   "cell_type": "code",
   "execution_count": null,
   "id": "9faa108c-b72a-4a60-a8ea-7c780b06b1df",
   "metadata": {},
   "outputs": [],
   "source": []
  }
 ],
 "metadata": {
  "kernelspec": {
   "display_name": "Python 3 (ipykernel)",
   "language": "python",
   "name": "python3"
  },
  "language_info": {
   "codemirror_mode": {
    "name": "ipython",
    "version": 3
   },
   "file_extension": ".py",
   "mimetype": "text/x-python",
   "name": "python",
   "nbconvert_exporter": "python",
   "pygments_lexer": "ipython3",
   "version": "3.12.7"
  }
 },
 "nbformat": 4,
 "nbformat_minor": 5
}
